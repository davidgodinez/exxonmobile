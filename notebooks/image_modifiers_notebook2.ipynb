{
 "cells": [
  {
   "attachments": {},
   "cell_type": "markdown",
   "metadata": {},
   "source": [
    "# Transformations that can be done to the images to improve OCR"
   ]
  },
  {
   "cell_type": "code",
   "execution_count": 1,
   "metadata": {},
   "outputs": [
    {
     "data": {
      "text/plain": [
       "119"
      ]
     },
     "execution_count": 1,
     "metadata": {},
     "output_type": "execute_result"
    }
   ],
   "source": [
    "# changing an image's exposure\n",
    "import cv2\n",
    "\n",
    "# Load the image\n",
    "img = cv2.imread('/path/to/image.png')\n",
    "\n",
    "# Increase exposure\n",
    "alpha = 1.5  # Increase this value to increase exposure\n",
    "adjusted = cv2.convertScaleAbs(img, alpha=alpha)\n",
    "\n",
    "# Show the original and adjusted images side by side\n",
    "cv2.imshow('Original', img)\n",
    "cv2.imshow('Adjusted', adjusted)\n",
    "cv2.waitKey(0)\n"
   ]
  },
  {
   "cell_type": "code",
   "execution_count": 4,
   "metadata": {},
   "outputs": [],
   "source": [
    "# changing the contrast of the image \n",
    "\n",
    "# Load the image\n",
    "img = cv2.imread('/path/to/image.png')\n",
    "\n",
    "# Increase contrast\n",
    "alpha = 1.5  # Increase this value to increase contrast\n",
    "adjusted = cv2.convertScaleAbs(img, alpha=alpha, beta=0)\n",
    "\n",
    "# Show the original and adjusted images side by side\n",
    "cv2.imshow('Original', img)\n",
    "cv2.imshow('Adjusted', adjusted)\n",
    "cv2.waitKey(0)\n"
   ]
  },
  {
   "cell_type": "code",
   "execution_count": 3,
   "metadata": {},
   "outputs": [
    {
     "name": "stderr",
     "output_type": "stream",
     "text": [
      "Lossy conversion from float64 to uint8. Range [0, 1]. Convert image to uint8 prior to saving to suppress this warning.\n"
     ]
    }
   ],
   "source": [
    "# changing image sharpness\n",
    "from skimage import io, filters\n",
    "\n",
    "# Load the image\n",
    "img = io.imread('/path/to/image.png')\n",
    "\n",
    "# Apply unsharp masking with a sigma value of 1 and amount of 1.5\n",
    "sharp_img = filters.unsharp_mask(img, radius=1, amount=1.5)\n",
    "\n",
    "# Save the sharpened image\n",
    "io.imsave('sharpened_image3.png', sharp_img)\n"
   ]
  },
  {
   "cell_type": "code",
   "execution_count": 5,
   "metadata": {},
   "outputs": [],
   "source": [
    "# adjusting image saturation\n",
    "import cv2\n",
    "import numpy as np\n",
    "\n",
    "# Load the image\n",
    "img = cv2.imread('/path/to/image.png')\n",
    "\n",
    "# Convert the image from BGR to HSV color space\n",
    "hsv_img = cv2.cvtColor(img, cv2.COLOR_BGR2HSV)\n",
    "\n",
    "# Increase the saturation by multiplying the S channel by a factor\n",
    "saturation = 1.5  # increase the saturation by 50%\n",
    "hsv_img[:, :, 1] = np.clip(hsv_img[:, :, 1] * saturation, 0, 255).astype(np.uint8)\n",
    "\n",
    "# Convert the image back to the BGR color space\n",
    "modified_img = cv2.cvtColor(hsv_img, cv2.COLOR_HSV2BGR)\n",
    "\n",
    "# Display the original and modified images\n",
    "cv2.imshow('Original Image', img)\n",
    "cv2.imshow('Modified Image', modified_img)\n",
    "cv2.waitKey(0)\n",
    "cv2.destroyAllWindows()\n"
   ]
  },
  {
   "cell_type": "code",
   "execution_count": null,
   "metadata": {},
   "outputs": [],
   "source": []
  }
 ],
 "metadata": {
  "kernelspec": {
   "display_name": "Python 3 (ipykernel)",
   "language": "python",
   "name": "python3"
  },
  "language_info": {
   "codemirror_mode": {
    "name": "ipython",
    "version": 3
   },
   "file_extension": ".py",
   "mimetype": "text/x-python",
   "name": "python",
   "nbconvert_exporter": "python",
   "pygments_lexer": "ipython3",
   "version": "3.9.16"
  }
 },
 "nbformat": 4,
 "nbformat_minor": 2
}
