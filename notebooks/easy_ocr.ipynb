{
 "cells": [
  {
   "cell_type": "markdown",
   "metadata": {
    "id": "zAckSQgGaGHY"
   },
   "source": [
    "### Install the necessary packages"
   ]
  },
  {
   "cell_type": "code",
   "execution_count": null,
   "metadata": {
    "colab": {
     "base_uri": "https://localhost:8080/"
    },
    "id": "n9FkaOfWwawu",
    "outputId": "2fab8db9-db5b-4e18-89f2-2ce6d95e7ccc"
   },
   "outputs": [],
   "source": [
    "!pip install easyocr"
   ]
  },
  {
   "cell_type": "markdown",
   "metadata": {
    "id": "NFhAzQB3aNMa"
   },
   "source": [
    "### Download the code zip file"
   ]
  },
  {
   "cell_type": "code",
   "execution_count": null,
   "metadata": {
    "colab": {
     "base_uri": "https://localhost:8080/"
    },
    "id": "7y0LG1EuaRlB",
    "outputId": "7890b666-a2ab-4039-e977-b6b3b7746e7f"
   },
   "outputs": [],
   "source": [
    "!wget https://pyimagesearch-code-downloads.s3-us-west-2.amazonaws.com/easy-ocr-tutorial/easy-ocr-tutorial.zip\n",
    "!unzip -qq easy-ocr-tutorial.zip\n",
    "%cd easy-ocr-tutorial"
   ]
  },
  {
   "cell_type": "markdown",
   "metadata": {
    "id": "wcrOk6pURp50"
   },
   "source": [
    "### Import Packages"
   ]
  },
  {
   "cell_type": "code",
   "execution_count": null,
   "metadata": {
    "id": "VJaCNlDDRz6d"
   },
   "outputs": [],
   "source": [
    "# import the necessary packages\n",
    "from matplotlib import pyplot as plt\n",
    "from easyocr import Reader\n",
    "import argparse\n",
    "import cv2"
   ]
  },
  {
   "cell_type": "markdown",
   "metadata": {
    "id": "lBrLwCtN5kqy"
   },
   "source": [
    "### Function to display images in Jupyter Notebooks and Google Colab"
   ]
  },
  {
   "cell_type": "code",
   "execution_count": null,
   "metadata": {
    "id": "fRw969Dp5Kdm"
   },
   "outputs": [],
   "source": [
    "def plt_imshow(title, image):\n",
    "\t# convert the image frame BGR to RGB color space and display it\n",
    "\timage = cv2.cvtColor(image, cv2.COLOR_BGR2RGB)\n",
    "\tplt.imshow(image)\n",
    "\tplt.title(title)\n",
    "\tplt.grid(False)\n",
    "\tplt.show()"
   ]
  },
  {
   "cell_type": "markdown",
   "metadata": {
    "id": "Jppw5-Bd56H-"
   },
   "source": [
    "### Using EasyOCR for Optical Character Recognition"
   ]
  },
  {
   "cell_type": "code",
   "execution_count": null,
   "metadata": {
    "id": "kx6svayKDwRP"
   },
   "outputs": [],
   "source": [
    "def cleanup_text(text):\n",
    "\t# strip out non-ASCII text so we can draw the text on the image\n",
    "\t# using OpenCV\n",
    "\treturn \"\".join([c if ord(c) < 128 else \"\" for c in text]).strip()"
   ]
  },
  {
   "cell_type": "code",
   "execution_count": null,
   "metadata": {},
   "outputs": [],
   "source": [
    "cd .."
   ]
  },
  {
   "cell_type": "code",
   "execution_count": null,
   "metadata": {},
   "outputs": [],
   "source": [
    "cd pipeline/"
   ]
  },
  {
   "cell_type": "code",
   "execution_count": null,
   "metadata": {},
   "outputs": [],
   "source": [
    "from table_classes import Documents, ConvertedDocuments, BoxedImages "
   ]
  },
  {
   "cell_type": "code",
   "execution_count": null,
   "metadata": {},
   "outputs": [],
   "source": [
    "image1 = (ConvertedDocuments.Images & 'image_number=1').fetch1('image')\n",
    "import numpy as np\n",
    "from PIL import Image\n",
    "import io"
   ]
  },
  {
   "cell_type": "code",
   "execution_count": null,
   "metadata": {},
   "outputs": [],
   "source": [
    "boxed_image = Image.open(io.BytesIO(image1))\n",
    "\n",
    "# # Display the image using Image.show() method (opens the image in the default image viewer)\n",
    "boxed_image.show()"
   ]
  },
  {
   "cell_type": "code",
   "execution_count": null,
   "metadata": {},
   "outputs": [],
   "source": [
    "type((ConvertedDocuments.Images & 'image_number=1').fetch1('image'))"
   ]
  },
  {
   "cell_type": "code",
   "execution_count": null,
   "metadata": {},
   "outputs": [],
   "source": [
    "plt_imshow('New Image', np.asarray((ConvertedDocuments.Images & 'image_number=1').fetch1('image')))"
   ]
  },
  {
   "cell_type": "code",
   "execution_count": null,
   "metadata": {},
   "outputs": [],
   "source": [
    "cd notebooks/"
   ]
  },
  {
   "cell_type": "code",
   "execution_count": null,
   "metadata": {},
   "outputs": [],
   "source": [
    "def plt_imshow(title, image):\n",
    "\t# convert the image frame BGR to RGB color space and display it\n",
    "\timage = cv2.cvtColor(image, cv2.COLOR_BGR2RGB)\n",
    "\tplt.imshow(image)\n",
    "\tplt.title(title)\n",
    "\tplt.grid(False)\n",
    "\tplt.show()\n",
    "    \n",
    "    \n",
    "def cleanup_text(text):\n",
    "\t# strip out non-ASCII text so we can draw the text on the image\n",
    "\t# using OpenCV\n",
    "\treturn \"\".join([c if ord(c) < 128 else \"\" for c in text]).strip()\n",
    "\n",
    "    \n",
    "    \n",
    "args = {\n",
    "\t\"image\": \"images/sample2.png\",\n",
    "\t\"langs\": \"en\",\n",
    "\t\"gpu\": -1\n",
    "}\n",
    "\n",
    "# break the input languages into a comma separated list\n",
    "langs = args[\"langs\"].split(\",\")\n",
    "print(\"[INFO] OCR'ing with the following languages: {}\".format(langs))\n",
    "\n",
    "# load the input image from disk\n",
    "image = cv2.imread(args[\"image\"])\n",
    "\n",
    "# OCR the input image using EasyOCR\n",
    "print(\"[INFO] OCR'ing input image...\")\n",
    "reader = Reader(langs, gpu=args[\"gpu\"] > 0)\n",
    "results = reader.readtext(image)\n",
    "\n",
    "# loop over the results\n",
    "for (bbox, text, prob) in results:\n",
    "\t# display the OCR'd text and associated probability\n",
    "\tprint(\"[INFO] {:.4f}: {}\".format(prob, text))\n",
    "\n",
    "\t# unpack the bounding box\n",
    "\t(tl, tr, br, bl) = bbox\n",
    "\ttl = (int(tl[0]), int(tl[1]))\n",
    "\ttr = (int(tr[0]), int(tr[1]))\n",
    "\tbr = (int(br[0]), int(br[1]))\n",
    "\tbl = (int(bl[0]), int(bl[1]))\n",
    "\n",
    "\t# cleanup the text and draw the box surrounding the text along\n",
    "\t# with the OCR'd text itself\n",
    "\ttext = cleanup_text(text)\n",
    "\tcv2.rectangle(image, tl, br, (0, 255, 0), 2)\n",
    "\tcv2.putText(image, text, (tl[0], tl[1] - 10),\n",
    "\t\tcv2.FONT_HERSHEY_SIMPLEX, 0.8, (0, 255, 0), 2)\n",
    "\n",
    "# show the output image\n",
    "plt_imshow(\"Image\", image)"
   ]
  },
  {
   "cell_type": "code",
   "execution_count": null,
   "metadata": {
    "id": "okM7Bpyeq8Kc"
   },
   "outputs": [],
   "source": [
    "# construct the argument parser and parse the arguments\n",
    "#ap = argparse.ArgumentParser()\n",
    "#ap.add_argument(\"-i\", \"--image\", required=True,\n",
    "#\thelp=\"path to input image to be OCR'd\")\n",
    "#ap.add_argument(\"-l\", \"--langs\", type=str, default=\"en\",\n",
    "#\thelp=\"comma separated list of languages to OCR\")\n",
    "#ap.add_argument(\"-g\", \"--gpu\", type=int, default=-1,\n",
    "#\thelp=\"whether or not GPU should be used\")\n",
    "#args = vars(ap.parse_args())\n",
    "\n",
    "# since we are using Jupyter Notebooks we can replace our argument\n",
    "# parsing code with *hard coded* arguments and values\n",
    "args = {\n",
    "\t\"image\": \"images/sample2.png\",\n",
    "\t\"langs\": \"en\",\n",
    "\t\"gpu\": -1\n",
    "}"
   ]
  },
  {
   "cell_type": "code",
   "execution_count": null,
   "metadata": {
    "colab": {
     "base_uri": "https://localhost:8080/"
    },
    "id": "azSoK9K3D2yV",
    "outputId": "dd199e0f-a878-48e2-df13-11d49c60e8b6"
   },
   "outputs": [],
   "source": [
    "# break the input languages into a comma separated list\n",
    "langs = args[\"langs\"].split(\",\")\n",
    "print(\"[INFO] OCR'ing with the following languages: {}\".format(langs))\n",
    "\n",
    "# load the input image from disk\n",
    "image = cv2.imread(args[\"image\"])\n",
    "\n",
    "# OCR the input image using EasyOCR\n",
    "print(\"[INFO] OCR'ing input image...\")\n",
    "reader = Reader(langs, gpu=args[\"gpu\"] > 0)\n",
    "results = reader.readtext(image)"
   ]
  },
  {
   "cell_type": "code",
   "execution_count": null,
   "metadata": {
    "colab": {
     "base_uri": "https://localhost:8080/",
     "height": 449
    },
    "id": "41u-cvBJD3Pn",
    "outputId": "2c2edfe1-039d-498a-dd7f-dfc463f0331d"
   },
   "outputs": [],
   "source": [
    "# loop over the results\n",
    "for (bbox, text, prob) in results:\n",
    "\t# display the OCR'd text and associated probability\n",
    "\tprint(\"[INFO] {:.4f}: {}\".format(prob, text))\n",
    "\n",
    "\t# unpack the bounding box\n",
    "\t(tl, tr, br, bl) = bbox\n",
    "\ttl = (int(tl[0]), int(tl[1]))\n",
    "\ttr = (int(tr[0]), int(tr[1]))\n",
    "\tbr = (int(br[0]), int(br[1]))\n",
    "\tbl = (int(bl[0]), int(bl[1]))\n",
    "\n",
    "\t# cleanup the text and draw the box surrounding the text along\n",
    "\t# with the OCR'd text itself\n",
    "\ttext = cleanup_text(text)\n",
    "\tcv2.rectangle(image, tl, br, (0, 255, 0), 2)\n",
    "\tcv2.putText(image, text, (tl[0], tl[1] - 10),\n",
    "\t\tcv2.FONT_HERSHEY_SIMPLEX, 0.8, (0, 255, 0), 2)\n",
    "\n",
    "# show the output image\n",
    "plt_imshow(\"Image\", image)"
   ]
  },
  {
   "cell_type": "code",
   "execution_count": null,
   "metadata": {},
   "outputs": [],
   "source": [
    "final_string = ''\n",
    "for text in range(len(results)):\n",
    "    # concatenate the text \n",
    "    final_string += results[text][1] + ' '\n",
    "#pretty print the final string\n",
    "print(final_string)"
   ]
  },
  {
   "cell_type": "code",
   "execution_count": null,
   "metadata": {},
   "outputs": [],
   "source": [
    "BoxedImages.BoxedImageBlobs()"
   ]
  },
  {
   "cell_type": "code",
   "execution_count": null,
   "metadata": {},
   "outputs": [],
   "source": [
    "image = (BoxedImages() & 'image_number=4').fetch1('full_boxed_image')\n",
    "image2 = (BoxedImages.BoxedImageBlobs & 'image_number=1' & 'box_number=1').fetch1('boxed_image')"
   ]
  },
  {
   "cell_type": "code",
   "execution_count": null,
   "metadata": {},
   "outputs": [],
   "source": [
    "type(image2)"
   ]
  },
  {
   "cell_type": "code",
   "execution_count": null,
   "metadata": {},
   "outputs": [],
   "source": [
    "image_data = (BoxedImages.BoxedImageBlobs & 'image_number=1' & 'box_number=6').fetch1('boxed_image')\n",
    "\n",
    "# print(\"Image data (first 10 bytes):\", image_data[:10])\n",
    "\n",
    "from PIL import Image\n",
    "import io\n",
    "\n",
    "boxed_image = Image.open(io.BytesIO(image_data))\n",
    "\n",
    "# Display the image using Image.show() method (opens the image in the default image viewer)\n",
    "boxed_image.show()\n",
    "\n",
    "# Or display the image in a Jupyter notebook with %matplotlib inline\n",
    "# plt.imshow(boxed_image)\n",
    "# plt.axis('off')\n",
    "# plt.show()\n"
   ]
  },
  {
   "cell_type": "code",
   "execution_count": null,
   "metadata": {},
   "outputs": [],
   "source": []
  },
  {
   "cell_type": "code",
   "execution_count": null,
   "metadata": {},
   "outputs": [],
   "source": [
    "image_data = (BoxedImages.BoxedParagraphBlobs & 'image_number=2' & 'paragraph_number=1').fetch1('boxed_paragraph')\n",
    "\n",
    "# print(\"Image data (first 10 bytes):\", image_data[:10])\n",
    "\n",
    "from PIL import Image\n",
    "import io\n",
    "\n",
    "boxed_image = Image.open(io.BytesIO(image_data))\n",
    "\n",
    "# Display the image using Image.show() method (opens the image in the default image viewer)\n",
    "boxed_image.show()\n",
    "\n",
    "# Or display the image in a Jupyter notebook with %matplotlib inline\n",
    "# plt.imshow(boxed_image)\n",
    "# plt.axis('off')\n",
    "# plt.show()\n"
   ]
  },
  {
   "cell_type": "code",
   "execution_count": null,
   "metadata": {},
   "outputs": [],
   "source": [
    "BoxedImages.BoxedParagraphBlobs()"
   ]
  },
  {
   "cell_type": "code",
   "execution_count": null,
   "metadata": {},
   "outputs": [],
   "source": [
    "image_3 = (BoxedImages & 'image_number=1').fetch1('full_boxed_image')\n",
    "boxed_image = Image.open(io.BytesIO(image_3))\n",
    "\n",
    "# Display the image using Image.show() method (opens the image in the default image viewer)\n",
    "boxed_image.show()"
   ]
  },
  {
   "cell_type": "code",
   "execution_count": null,
   "metadata": {},
   "outputs": [],
   "source": [
    "BoxedImages.BoxedImageBlobs()"
   ]
  },
  {
   "cell_type": "code",
   "execution_count": null,
   "metadata": {},
   "outputs": [],
   "source": [
    "# Documents.drop()"
   ]
  },
  {
   "cell_type": "code",
   "execution_count": null,
   "metadata": {},
   "outputs": [],
   "source": []
  },
  {
   "cell_type": "code",
   "execution_count": null,
   "metadata": {},
   "outputs": [],
   "source": []
  }
 ],
 "metadata": {
  "colab": {
   "provenance": []
  },
  "kernelspec": {
   "display_name": "Python 3 (ipykernel)",
   "language": "python",
   "name": "python3"
  },
  "language_info": {
   "codemirror_mode": {
    "name": "ipython",
    "version": 3
   },
   "file_extension": ".py",
   "mimetype": "text/x-python",
   "name": "python",
   "nbconvert_exporter": "python",
   "pygments_lexer": "ipython3",
   "version": "3.9.12"
  }
 },
 "nbformat": 4,
 "nbformat_minor": 1
}
