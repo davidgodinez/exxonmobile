{
 "cells": [
  {
   "cell_type": "markdown",
   "metadata": {
    "id": "wcrOk6pURp50"
   },
   "source": [
    "### Import Packages"
   ]
  },
  {
   "cell_type": "code",
   "execution_count": null,
   "metadata": {
    "id": "VJaCNlDDRz6d"
   },
   "outputs": [],
   "source": [
    "# import the necessary packages\n",
    "from matplotlib import pyplot as plt\n",
    "from easyocr import Reader\n",
    "import argparse\n",
    "import cv2\n",
    "from PIL import Image\n",
    "import io"
   ]
  },
  {
   "cell_type": "code",
   "execution_count": null,
   "metadata": {},
   "outputs": [],
   "source": [
    "cd .."
   ]
  },
  {
   "cell_type": "code",
   "execution_count": null,
   "metadata": {},
   "outputs": [],
   "source": [
    "cd pipeline/"
   ]
  },
  {
   "cell_type": "code",
   "execution_count": null,
   "metadata": {},
   "outputs": [],
   "source": [
    "from table_classes import Documents, ConvertedDocuments, BoxedImages "
   ]
  },
  {
   "cell_type": "code",
   "execution_count": null,
   "metadata": {},
   "outputs": [],
   "source": [
    "BoxedImages.BoxedImageBlobs()"
   ]
  },
  {
   "cell_type": "code",
   "execution_count": null,
   "metadata": {},
   "outputs": [],
   "source": [
    "image = (BoxedImages() & 'image_number=4').fetch1('full_boxed_image')\n",
    "image2 = (BoxedImages.BoxedImageBlobs & 'image_number=1' & 'box_number=1').fetch1('boxed_image')"
   ]
  },
  {
   "cell_type": "code",
   "execution_count": null,
   "metadata": {},
   "outputs": [],
   "source": [
    "image_data = (BoxedImages.BoxedImageBlobs & 'image_number=1' & 'box_number=6').fetch1('boxed_image')\n",
    "boxed_image = Image.open(io.BytesIO(image_data))\n",
    "\n",
    "# Display the image using Image.show() method (opens the image in the default image viewer)\n",
    "boxed_image.show()\n"
   ]
  },
  {
   "cell_type": "code",
   "execution_count": null,
   "metadata": {},
   "outputs": [],
   "source": [
    "image_data = (BoxedImages.BoxedParagraphBlobs & 'image_number=2' & 'paragraph_number=1').fetch1('boxed_paragraph')\n",
    "boxed_image = Image.open(io.BytesIO(image_data))\n",
    "\n",
    "# Display the image using Image.show() method (opens the image in the default image viewer)\n",
    "boxed_image.show()"
   ]
  },
  {
   "cell_type": "code",
   "execution_count": null,
   "metadata": {},
   "outputs": [],
   "source": [
    "BoxedImages.BoxedParagraphBlobs()"
   ]
  },
  {
   "cell_type": "code",
   "execution_count": null,
   "metadata": {},
   "outputs": [],
   "source": [
    "image_3 = (BoxedImages & 'image_number=1').fetch1('full_boxed_image')\n",
    "boxed_image = Image.open(io.BytesIO(image_3))\n",
    "\n",
    "# Display the image using Image.show() method (opens the image in the default image viewer)\n",
    "boxed_image.show()"
   ]
  },
  {
   "cell_type": "code",
   "execution_count": null,
   "metadata": {},
   "outputs": [],
   "source": [
    "BoxedImages()"
   ]
  },
  {
   "cell_type": "code",
   "execution_count": null,
   "metadata": {},
   "outputs": [],
   "source": [
    "BoxedImages.BoxedParagraphComments()"
   ]
  },
  {
   "cell_type": "code",
   "execution_count": null,
   "metadata": {},
   "outputs": [],
   "source": [
    "# Documents.drop()"
   ]
  }
 ],
 "metadata": {
  "colab": {
   "provenance": []
  },
  "kernelspec": {
   "display_name": "Python 3 (ipykernel)",
   "language": "python",
   "name": "python3"
  },
  "language_info": {
   "codemirror_mode": {
    "name": "ipython",
    "version": 3
   },
   "file_extension": ".py",
   "mimetype": "text/x-python",
   "name": "python",
   "nbconvert_exporter": "python",
   "pygments_lexer": "ipython3",
   "version": "3.9.12"
  }
 },
 "nbformat": 4,
 "nbformat_minor": 1
}
