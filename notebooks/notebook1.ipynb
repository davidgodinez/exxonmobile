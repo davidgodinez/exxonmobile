{
 "cells": [
  {
   "cell_type": "code",
   "execution_count": null,
   "metadata": {},
   "outputs": [],
   "source": [
    "import os\n",
    "os.chdir('..')"
   ]
  },
  {
   "cell_type": "code",
   "execution_count": null,
   "metadata": {},
   "outputs": [],
   "source": [
    "# use exxonmobile5 as kernel\n",
    "import datajoint as dj\n",
    "import datetime\n",
    "from pipeline.PDFloader import PDFFileLoader\n",
    "from pipeline.table_classes import Documents, ConvertedDocuments"
   ]
  },
  {
   "cell_type": "code",
   "execution_count": null,
   "metadata": {},
   "outputs": [],
   "source": [
    "print(f'datajoint version is: {dj.__version__} @ {datetime.datetime.now()}')\n",
    "schema = dj.Schema(\"exxonmobile\")\n",
    "# use absolute path\n",
    "folder_path = '/absolute/path/to/files'"
   ]
  },
  {
   "cell_type": "code",
   "execution_count": null,
   "metadata": {},
   "outputs": [],
   "source": [
    "# Ensuring the tables were generated from table_classes.py script\n",
    "dj.Diagram(schema)"
   ]
  },
  {
   "cell_type": "code",
   "execution_count": null,
   "metadata": {},
   "outputs": [],
   "source": [
    "# Examining the Documents Table\n",
    "Documents()"
   ]
  },
  {
   "cell_type": "code",
   "execution_count": null,
   "metadata": {},
   "outputs": [],
   "source": [
    "# Calling the loader\n",
    "loader = PDFFileLoader(folder_path=folder_path)\n",
    "loader.load_files()"
   ]
  },
  {
   "cell_type": "code",
   "execution_count": null,
   "metadata": {},
   "outputs": [],
   "source": [
    "# Calling Documents once more \n",
    "Documents()"
   ]
  },
  {
   "cell_type": "code",
   "execution_count": null,
   "metadata": {},
   "outputs": [],
   "source": [
    "# Let's populate the second table by calling the populate method\n",
    "ConvertedDocuments.populate(display_progress=True)"
   ]
  },
  {
   "cell_type": "code",
   "execution_count": null,
   "metadata": {},
   "outputs": [],
   "source": [
    "# Checking the size of part table ConvertedDocuments.Images\n",
    "len(ConvertedDocuments.Images.fetch())"
   ]
  },
  {
   "cell_type": "code",
   "execution_count": null,
   "metadata": {},
   "outputs": [],
   "source": [
    "ConvertedDocuments.Images()"
   ]
  },
  {
   "cell_type": "code",
   "execution_count": null,
   "metadata": {},
   "outputs": [],
   "source": [
    "# Let's populate the third table\n",
    "SharpenedImages.populate(display_progress=True)"
   ]
  },
  {
   "cell_type": "code",
   "execution_count": null,
   "metadata": {},
   "outputs": [],
   "source": [
    "# Examining the SharpenedImages Table\n",
    "SharpenedImages.ActualImages()"
   ]
  },
  {
   "cell_type": "code",
   "execution_count": null,
   "metadata": {},
   "outputs": [],
   "source": [
    "# Fetch 1 image and display it to confirm. \n",
    "\n",
    "import matplotlib.pyplot as plt\n",
    "from numpy import asarray\n",
    "\n",
    "\n",
    "data = (SharpenedImages.ActualImages & f'document_id=0' & f'image_number=0').fetch1('image')\n",
    "fig, ax = plt.subplots(figsize=(10,10))\n",
    "im = plt.imshow(data, cmap=plt.cm.gray)\n",
    "ax.set_axis_off()\n",
    "fig.tight_layout()\n",
    "plt.show()\n"
   ]
  },
  {
   "cell_type": "code",
   "execution_count": null,
   "metadata": {},
   "outputs": [],
   "source": [
    "# Uncommenting this cell will delete all tables and data in database \n",
    "# Documents.drop()"
   ]
  },
  {
   "cell_type": "code",
   "execution_count": null,
   "metadata": {},
   "outputs": [],
   "source": []
  }
 ],
 "metadata": {
  "kernelspec": {
   "display_name": "exxon",
   "language": "python",
   "name": "python3"
  },
  "language_info": {
   "codemirror_mode": {
    "name": "ipython",
    "version": 3
   },
   "file_extension": ".py",
   "mimetype": "text/x-python",
   "name": "python",
   "nbconvert_exporter": "python",
   "pygments_lexer": "ipython3",
   "version": "3.9.16"
  },
  "orig_nbformat": 4,
  "vscode": {
   "interpreter": {
    "hash": "d5094d06fcbccf5a5de07cbb6befa69141ad3c79799895aec2a7c5060ab9d1a8"
   }
  }
 },
 "nbformat": 4,
 "nbformat_minor": 2
}
