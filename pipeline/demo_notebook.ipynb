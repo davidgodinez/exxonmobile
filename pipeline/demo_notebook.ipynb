{
 "cells": [
  {
   "cell_type": "code",
   "execution_count": 1,
   "metadata": {},
   "outputs": [],
   "source": [
    "%matplotlib inline"
   ]
  },
  {
   "cell_type": "code",
   "execution_count": 2,
   "metadata": {},
   "outputs": [
    {
     "name": "stderr",
     "output_type": "stream",
     "text": [
      "[2023-03-16 10:10:58,524][INFO]: Connecting root@localhost:3306\n",
      "[2023-03-16 10:10:58,567][INFO]: Connected root@localhost:3306\n"
     ]
    }
   ],
   "source": [
    "import datajoint as dj\n",
    "from PIL import Image\n",
    "import io\n",
    "import numpy as np\n",
    "import matplotlib.pyplot as plt\n",
    "from table_classes import Documents, ConvertedDocuments, BoxedImages "
   ]
  },
  {
   "cell_type": "code",
   "execution_count": 3,
   "metadata": {},
   "outputs": [
    {
     "data": {
      "image/svg+xml": "<svg xmlns=\"http://www.w3.org/2000/svg\" xmlns:xlink=\"http://www.w3.org/1999/xlink\" width=\"174pt\" height=\"295pt\" viewBox=\"0.00 0.00 174.25 295.00\">\n<g id=\"graph0\" class=\"graph\" transform=\"scale(1 1) rotate(0) translate(4 291)\">\n<polygon fill=\"white\" stroke=\"transparent\" points=\"-4,4 -4,-291 170.25,-291 170.25,4 -4,4\"/>\n<!-- BoxedImages -->\n<g id=\"node1\" class=\"node\">\n<title>BoxedImages</title>\n<g id=\"a_node1\"><a xlink:title=\"→ ConvertedDocuments.Images\r\">\n<ellipse fill=\"#00007f\" fill-opacity=\"0.250980\" stroke=\"#00007f\" stroke-opacity=\"0.250980\" cx=\"83.12\" cy=\"-72.5\" rx=\"56\" ry=\"17.5\"/>\n<text text-anchor=\"middle\" x=\"83.12\" y=\"-69.4\" font-family=\"arial\" font-size=\"12.00\" fill=\"#00007f\" fill-opacity=\"0.627451\">BoxedImages</text>\n</a>\n</g>\n</g>\n<!-- BoxedImages.BoxedImageBlobs -->\n<g id=\"node4\" class=\"node\">\n<title>BoxedImages.BoxedImageBlobs</title>\n<g id=\"a_node4\"><a xlink:title=\"→ BoxedImages\rbox_number           \r------------------------------\rboxed_image          \r\">\n<polygon fill=\"transparent\" stroke=\"transparent\" points=\"162.62,-19 3.62,-19 3.62,0 162.62,0 162.62,-19\"/>\n<text text-anchor=\"start\" x=\"11.62\" y=\"-8\" font-family=\"arial\" text-decoration=\"underline\" font-size=\"10.00\">BoxedImages.BoxedImageBlobs</text>\n</a>\n</g>\n</g>\n<!-- BoxedImages&#45;&gt;BoxedImages.BoxedImageBlobs -->\n<g id=\"edge1\" class=\"edge\">\n<title>BoxedImages-&gt;BoxedImages.BoxedImageBlobs</title>\n<path fill=\"none\" stroke=\"#000000\" stroke-width=\"0.75\" stroke-opacity=\"0.250980\" d=\"M83.12,-54.83C83.12,-43.26 83.12,-28.32 83.12,-19.08\"/>\n</g>\n<!-- ConvertedDocuments -->\n<g id=\"node2\" class=\"node\">\n<title>ConvertedDocuments</title>\n<g id=\"a_node2\"><a xlink:title=\"→ Documents\r\">\n<ellipse fill=\"#00007f\" fill-opacity=\"0.250980\" stroke=\"#00007f\" stroke-opacity=\"0.250980\" cx=\"83.12\" cy=\"-198.5\" rx=\"83.25\" ry=\"17.5\"/>\n<text text-anchor=\"middle\" x=\"83.12\" y=\"-195.4\" font-family=\"arial\" font-size=\"12.00\" fill=\"#00007f\" fill-opacity=\"0.627451\">ConvertedDocuments</text>\n</a>\n</g>\n</g>\n<!-- ConvertedDocuments.Images -->\n<g id=\"node5\" class=\"node\">\n<title>ConvertedDocuments.Images</title>\n<g id=\"a_node5\"><a xlink:title=\"→ ConvertedDocuments\rimage_number         \r------------------------------\rimage                \r\">\n<polygon fill=\"transparent\" stroke=\"transparent\" points=\"156.62,-145 9.62,-145 9.62,-126 156.62,-126 156.62,-145\"/>\n<text text-anchor=\"start\" x=\"17.62\" y=\"-134\" font-family=\"arial\" text-decoration=\"underline\" font-size=\"10.00\">ConvertedDocuments.Images</text>\n</a>\n</g>\n</g>\n<!-- ConvertedDocuments&#45;&gt;ConvertedDocuments.Images -->\n<g id=\"edge2\" class=\"edge\">\n<title>ConvertedDocuments-&gt;ConvertedDocuments.Images</title>\n<path fill=\"none\" stroke=\"#000000\" stroke-width=\"0.75\" stroke-opacity=\"0.250980\" d=\"M83.12,-180.83C83.12,-169.26 83.12,-154.32 83.12,-145.08\"/>\n</g>\n<!-- Documents -->\n<g id=\"node3\" class=\"node\">\n<title>Documents</title>\n<g id=\"a_node3\"><a xlink:title=\"document_id          \r------------------------------\rdatetime             \rfile_name            \r\">\n<polygon fill=\"#00ff00\" fill-opacity=\"0.188235\" stroke=\"#00ff00\" stroke-opacity=\"0.188235\" points=\"121.62,-287 44.62,-287 44.62,-252 121.62,-252 121.62,-287\"/>\n<text text-anchor=\"start\" x=\"52.62\" y=\"-267.4\" font-family=\"arial\" text-decoration=\"underline\" font-size=\"12.00\" fill=\"darkgreen\">Documents</text>\n</a>\n</g>\n</g>\n<!-- Documents&#45;&gt;ConvertedDocuments -->\n<g id=\"edge3\" class=\"edge\">\n<title>Documents-&gt;ConvertedDocuments</title>\n<path fill=\"none\" stroke=\"#000000\" stroke-width=\"2\" stroke-opacity=\"0.250980\" d=\"M83.12,-251.8C83.12,-240.95 83.12,-226.87 83.12,-216.05\"/>\n</g>\n<!-- ConvertedDocuments.Images&#45;&gt;BoxedImages -->\n<g id=\"edge4\" class=\"edge\">\n<title>ConvertedDocuments.Images-&gt;BoxedImages</title>\n<path fill=\"none\" stroke=\"#000000\" stroke-width=\"2\" stroke-opacity=\"0.250980\" d=\"M83.12,-125.76C83.12,-116.54 83.12,-101.77 83.12,-90.28\"/>\n</g>\n</g>\n</svg>",
      "text/plain": [
       "<datajoint.diagram.Diagram at 0x107a83a00>"
      ]
     },
     "execution_count": 3,
     "metadata": {},
     "output_type": "execute_result"
    }
   ],
   "source": [
    "schema = dj.Schema(\"exxonmobile\")\n",
    "dj.Diagram(schema)"
   ]
  },
  {
   "cell_type": "code",
   "execution_count": 4,
   "metadata": {},
   "outputs": [
    {
     "data": {
      "text/html": [
       "\n",
       "    \n",
       "    <style type=\"text/css\">\n",
       "        .Table{\n",
       "            border-collapse:collapse;\n",
       "        }\n",
       "        .Table th{\n",
       "            background: #A0A0A0; color: #ffffff; padding:4px; border:#f0e0e0 1px solid;\n",
       "            font-weight: normal; font-family: monospace; font-size: 100%;\n",
       "        }\n",
       "        .Table td{\n",
       "            padding:4px; border:#f0e0e0 1px solid; font-size:100%;\n",
       "        }\n",
       "        .Table tr:nth-child(odd){\n",
       "            background: #ffffff;\n",
       "        }\n",
       "        .Table tr:nth-child(even){\n",
       "            background: #f3f1ff;\n",
       "        }\n",
       "        /* Tooltip container */\n",
       "        .djtooltip {\n",
       "        }\n",
       "        /* Tooltip text */\n",
       "        .djtooltip .djtooltiptext {\n",
       "            visibility: hidden;\n",
       "            width: 120px;\n",
       "            background-color: black;\n",
       "            color: #fff;\n",
       "            text-align: center;\n",
       "            padding: 5px 0;\n",
       "            border-radius: 6px;\n",
       "            /* Position the tooltip text - see examples below! */\n",
       "            position: absolute;\n",
       "            z-index: 1;\n",
       "        }\n",
       "        #primary {\n",
       "            font-weight: bold;\n",
       "            color: black;\n",
       "        }\n",
       "        #nonprimary {\n",
       "            font-weight: normal;\n",
       "            color: white;\n",
       "        }\n",
       "\n",
       "        /* Show the tooltip text when you mouse over the tooltip container */\n",
       "        .djtooltip:hover .djtooltiptext {\n",
       "            visibility: visible;\n",
       "        }\n",
       "    </style>\n",
       "    \n",
       "    <b></b>\n",
       "        <div style=\"max-height:1000px;max-width:1500px;overflow:auto;\">\n",
       "        <table border=\"1\" class=\"Table\">\n",
       "            <thead> <tr style=\"text-align: right;\"> <th> <div class=\"djtooltip\">\n",
       "                            <p id=\"primary\">document_id</p>\n",
       "                            <span class=\"djtooltiptext\">unique id for document</span>\n",
       "                        </div></th><th><div class=\"djtooltip\">\n",
       "                            <p id=\"nonprimary\">datetime</p>\n",
       "                            <span class=\"djtooltiptext\">time document was imported into table</span>\n",
       "                        </div></th><th><div class=\"djtooltip\">\n",
       "                            <p id=\"nonprimary\">file_name</p>\n",
       "                            <span class=\"djtooltiptext\">document filename</span>\n",
       "                        </div> </th> </tr> </thead>\n",
       "            <tbody> <tr>  </tr> </tbody>\n",
       "        </table>\n",
       "        \n",
       "        <p>Total: 0</p></div>\n",
       "        "
      ],
      "text/plain": [
       "*document_id   datetime     file_name    \n",
       "+------------+ +----------+ +-----------+\n",
       "\n",
       " (Total: 0)"
      ]
     },
     "execution_count": 4,
     "metadata": {},
     "output_type": "execute_result"
    }
   ],
   "source": [
    "Documents()"
   ]
  },
  {
   "cell_type": "code",
   "execution_count": 6,
   "metadata": {},
   "outputs": [
    {
     "data": {
      "text/html": [
       "\n",
       "    \n",
       "    <style type=\"text/css\">\n",
       "        .Table{\n",
       "            border-collapse:collapse;\n",
       "        }\n",
       "        .Table th{\n",
       "            background: #A0A0A0; color: #ffffff; padding:4px; border:#f0e0e0 1px solid;\n",
       "            font-weight: normal; font-family: monospace; font-size: 100%;\n",
       "        }\n",
       "        .Table td{\n",
       "            padding:4px; border:#f0e0e0 1px solid; font-size:100%;\n",
       "        }\n",
       "        .Table tr:nth-child(odd){\n",
       "            background: #ffffff;\n",
       "        }\n",
       "        .Table tr:nth-child(even){\n",
       "            background: #f3f1ff;\n",
       "        }\n",
       "        /* Tooltip container */\n",
       "        .djtooltip {\n",
       "        }\n",
       "        /* Tooltip text */\n",
       "        .djtooltip .djtooltiptext {\n",
       "            visibility: hidden;\n",
       "            width: 120px;\n",
       "            background-color: black;\n",
       "            color: #fff;\n",
       "            text-align: center;\n",
       "            padding: 5px 0;\n",
       "            border-radius: 6px;\n",
       "            /* Position the tooltip text - see examples below! */\n",
       "            position: absolute;\n",
       "            z-index: 1;\n",
       "        }\n",
       "        #primary {\n",
       "            font-weight: bold;\n",
       "            color: black;\n",
       "        }\n",
       "        #nonprimary {\n",
       "            font-weight: normal;\n",
       "            color: white;\n",
       "        }\n",
       "\n",
       "        /* Show the tooltip text when you mouse over the tooltip container */\n",
       "        .djtooltip:hover .djtooltiptext {\n",
       "            visibility: visible;\n",
       "        }\n",
       "    </style>\n",
       "    \n",
       "    <b></b>\n",
       "        <div style=\"max-height:1000px;max-width:1500px;overflow:auto;\">\n",
       "        <table border=\"1\" class=\"Table\">\n",
       "            <thead> <tr style=\"text-align: right;\"> <th> <div class=\"djtooltip\">\n",
       "                            <p id=\"primary\">document_id</p>\n",
       "                            <span class=\"djtooltiptext\">unique id for document</span>\n",
       "                        </div></th><th><div class=\"djtooltip\">\n",
       "                            <p id=\"primary\">image_number</p>\n",
       "                            <span class=\"djtooltiptext\"></span>\n",
       "                        </div></th><th><div class=\"djtooltip\">\n",
       "                            <p id=\"nonprimary\">image</p>\n",
       "                            <span class=\"djtooltiptext\"></span>\n",
       "                        </div> </th> </tr> </thead>\n",
       "            <tbody> <tr> <td>0</td>\n",
       "<td>1</td>\n",
       "<td>=BLOB=</td></tr><tr><td>0</td>\n",
       "<td>2</td>\n",
       "<td>=BLOB=</td></tr><tr><td>0</td>\n",
       "<td>3</td>\n",
       "<td>=BLOB=</td></tr><tr><td>0</td>\n",
       "<td>4</td>\n",
       "<td>=BLOB=</td></tr><tr><td>0</td>\n",
       "<td>5</td>\n",
       "<td>=BLOB=</td> </tr> </tbody>\n",
       "        </table>\n",
       "        \n",
       "        <p>Total: 5</p></div>\n",
       "        "
      ],
      "text/plain": [
       "*document_id   *image_number  image     \n",
       "+------------+ +------------+ +--------+\n",
       "0              1              =BLOB=    \n",
       "0              2              =BLOB=    \n",
       "0              3              =BLOB=    \n",
       "0              4              =BLOB=    \n",
       "0              5              =BLOB=    \n",
       " (Total: 5)"
      ]
     },
     "execution_count": 6,
     "metadata": {},
     "output_type": "execute_result"
    }
   ],
   "source": [
    "ConvertedDocuments.Images()"
   ]
  },
  {
   "cell_type": "code",
   "execution_count": 7,
   "metadata": {},
   "outputs": [],
   "source": [
    "image1 = (ConvertedDocuments.Images & 'image_number=1').fetch1('image')"
   ]
  },
  {
   "cell_type": "code",
   "execution_count": 8,
   "metadata": {},
   "outputs": [],
   "source": [
    "\n",
    "boxed_image = Image.open(io.BytesIO(image1))\n",
    "\n",
    "# # Display the image using Image.show() method (opens the image in the default image viewer)\n",
    "boxed_image.show()\n",
    "\n",
    "# Or display the image in a Jupyter notebook with %matplotlib inline\n",
    "\n",
    "# plt.imshow(boxed_image)\n",
    "# plt.axis('off')\n",
    "# plt.show()"
   ]
  },
  {
   "cell_type": "code",
   "execution_count": 9,
   "metadata": {},
   "outputs": [
    {
     "data": {
      "text/html": [
       "\n",
       "    \n",
       "    <style type=\"text/css\">\n",
       "        .Table{\n",
       "            border-collapse:collapse;\n",
       "        }\n",
       "        .Table th{\n",
       "            background: #A0A0A0; color: #ffffff; padding:4px; border:#f0e0e0 1px solid;\n",
       "            font-weight: normal; font-family: monospace; font-size: 100%;\n",
       "        }\n",
       "        .Table td{\n",
       "            padding:4px; border:#f0e0e0 1px solid; font-size:100%;\n",
       "        }\n",
       "        .Table tr:nth-child(odd){\n",
       "            background: #ffffff;\n",
       "        }\n",
       "        .Table tr:nth-child(even){\n",
       "            background: #f3f1ff;\n",
       "        }\n",
       "        /* Tooltip container */\n",
       "        .djtooltip {\n",
       "        }\n",
       "        /* Tooltip text */\n",
       "        .djtooltip .djtooltiptext {\n",
       "            visibility: hidden;\n",
       "            width: 120px;\n",
       "            background-color: black;\n",
       "            color: #fff;\n",
       "            text-align: center;\n",
       "            padding: 5px 0;\n",
       "            border-radius: 6px;\n",
       "            /* Position the tooltip text - see examples below! */\n",
       "            position: absolute;\n",
       "            z-index: 1;\n",
       "        }\n",
       "        #primary {\n",
       "            font-weight: bold;\n",
       "            color: black;\n",
       "        }\n",
       "        #nonprimary {\n",
       "            font-weight: normal;\n",
       "            color: white;\n",
       "        }\n",
       "\n",
       "        /* Show the tooltip text when you mouse over the tooltip container */\n",
       "        .djtooltip:hover .djtooltiptext {\n",
       "            visibility: visible;\n",
       "        }\n",
       "    </style>\n",
       "    \n",
       "    <b></b>\n",
       "        <div style=\"max-height:1000px;max-width:1500px;overflow:auto;\">\n",
       "        <table border=\"1\" class=\"Table\">\n",
       "            <thead> <tr style=\"text-align: right;\"> <th> <div class=\"djtooltip\">\n",
       "                            <p id=\"primary\">document_id</p>\n",
       "                            <span class=\"djtooltiptext\">unique id for document</span>\n",
       "                        </div></th><th><div class=\"djtooltip\">\n",
       "                            <p id=\"primary\">image_number</p>\n",
       "                            <span class=\"djtooltiptext\"></span>\n",
       "                        </div></th><th><div class=\"djtooltip\">\n",
       "                            <p id=\"primary\">box_number</p>\n",
       "                            <span class=\"djtooltiptext\"></span>\n",
       "                        </div></th><th><div class=\"djtooltip\">\n",
       "                            <p id=\"nonprimary\">boxed_image</p>\n",
       "                            <span class=\"djtooltiptext\"></span>\n",
       "                        </div> </th> </tr> </thead>\n",
       "            <tbody> <tr> <td>0</td>\n",
       "<td>1</td>\n",
       "<td>1</td>\n",
       "<td>=BLOB=</td></tr><tr><td>0</td>\n",
       "<td>1</td>\n",
       "<td>2</td>\n",
       "<td>=BLOB=</td></tr><tr><td>0</td>\n",
       "<td>1</td>\n",
       "<td>3</td>\n",
       "<td>=BLOB=</td></tr><tr><td>0</td>\n",
       "<td>1</td>\n",
       "<td>4</td>\n",
       "<td>=BLOB=</td></tr><tr><td>0</td>\n",
       "<td>1</td>\n",
       "<td>5</td>\n",
       "<td>=BLOB=</td></tr><tr><td>0</td>\n",
       "<td>1</td>\n",
       "<td>6</td>\n",
       "<td>=BLOB=</td></tr><tr><td>0</td>\n",
       "<td>1</td>\n",
       "<td>7</td>\n",
       "<td>=BLOB=</td></tr><tr><td>0</td>\n",
       "<td>1</td>\n",
       "<td>8</td>\n",
       "<td>=BLOB=</td></tr><tr><td>0</td>\n",
       "<td>1</td>\n",
       "<td>9</td>\n",
       "<td>=BLOB=</td></tr><tr><td>0</td>\n",
       "<td>1</td>\n",
       "<td>10</td>\n",
       "<td>=BLOB=</td></tr><tr><td>0</td>\n",
       "<td>1</td>\n",
       "<td>11</td>\n",
       "<td>=BLOB=</td></tr><tr><td>0</td>\n",
       "<td>1</td>\n",
       "<td>12</td>\n",
       "<td>=BLOB=</td> </tr> </tbody>\n",
       "        </table>\n",
       "        <p>...</p>\n",
       "        <p>Total: 122</p></div>\n",
       "        "
      ],
      "text/plain": [
       "*document_id   *image_number  *box_number    boxed_imag\n",
       "+------------+ +------------+ +------------+ +--------+\n",
       "0              1              1              =BLOB=    \n",
       "0              1              2              =BLOB=    \n",
       "0              1              3              =BLOB=    \n",
       "0              1              4              =BLOB=    \n",
       "0              1              5              =BLOB=    \n",
       "0              1              6              =BLOB=    \n",
       "0              1              7              =BLOB=    \n",
       "0              1              8              =BLOB=    \n",
       "0              1              9              =BLOB=    \n",
       "0              1              10             =BLOB=    \n",
       "0              1              11             =BLOB=    \n",
       "0              1              12             =BLOB=    \n",
       "   ...\n",
       " (Total: 122)"
      ]
     },
     "execution_count": 9,
     "metadata": {},
     "output_type": "execute_result"
    }
   ],
   "source": [
    "BoxedImages.BoxedImageBlobs()"
   ]
  },
  {
   "cell_type": "code",
   "execution_count": 14,
   "metadata": {},
   "outputs": [],
   "source": [
    "image2 = (BoxedImages.BoxedImageBlobs & 'image_number=1' & 'box_number=13').fetch1('boxed_image')"
   ]
  },
  {
   "cell_type": "code",
   "execution_count": 15,
   "metadata": {},
   "outputs": [],
   "source": [
    "# Convert the boxed_image_blob back to an image\n",
    "boxed_image = Image.open(io.BytesIO(image2))\n",
    "\n",
    "# # Display the image using Image.show() method (opens the image in the default image viewer)\n",
    "boxed_image.show()\n",
    "\n",
    "# Or display the image in a Jupyter notebook with %matplotlib inline\n",
    "# plt.imshow(boxed_image)\n",
    "# plt.axis('off')\n",
    "# plt.show()"
   ]
  },
  {
   "cell_type": "code",
   "execution_count": 4,
   "metadata": {},
   "outputs": [
    {
     "name": "stderr",
     "output_type": "stream",
     "text": [
      "[2023-03-16 10:10:23,000][INFO]: `exxonmobile`.`documents` (0 tuples)\n",
      "[2023-03-16 10:10:23,010][INFO]: `exxonmobile`.`_converted_documents` (0 tuples)\n",
      "[2023-03-16 10:10:23,016][INFO]: `exxonmobile`.`_converted_documents__images` (0 tuples)\n",
      "[2023-03-16 10:10:23,023][INFO]: `exxonmobile`.`_boxed_images` (0 tuples)\n",
      "[2023-03-16 10:10:23,031][INFO]: `exxonmobile`.`_boxed_images__boxed_image_blobs` (0 tuples)\n",
      "[2023-03-16 10:10:25,142][INFO]: Dropped table `exxonmobile`.`_boxed_images__boxed_image_blobs`\n",
      "[2023-03-16 10:10:25,157][INFO]: Dropped table `exxonmobile`.`_boxed_images`\n",
      "[2023-03-16 10:10:25,169][INFO]: Dropped table `exxonmobile`.`_converted_documents__images`\n",
      "[2023-03-16 10:10:25,179][INFO]: Dropped table `exxonmobile`.`_converted_documents`\n",
      "[2023-03-16 10:10:25,188][INFO]: Dropped table `exxonmobile`.`documents`\n",
      "[2023-03-16 10:10:25,192][INFO]: Tables dropped. Restart kernel.\n"
     ]
    }
   ],
   "source": [
    "Documents.drop()"
   ]
  },
  {
   "cell_type": "code",
   "execution_count": null,
   "metadata": {},
   "outputs": [],
   "source": []
  }
 ],
 "metadata": {
  "kernelspec": {
   "display_name": "exxonmobile-6ZVKEEvy-py3.9",
   "language": "python",
   "name": "python3"
  },
  "language_info": {
   "codemirror_mode": {
    "name": "ipython",
    "version": 3
   },
   "file_extension": ".py",
   "mimetype": "text/x-python",
   "name": "python",
   "nbconvert_exporter": "python",
   "pygments_lexer": "ipython3",
   "version": "3.9.12"
  },
  "orig_nbformat": 4
 },
 "nbformat": 4,
 "nbformat_minor": 2
}
